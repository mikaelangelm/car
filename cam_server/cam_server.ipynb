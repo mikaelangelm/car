{
 "cells": [
  {
   "cell_type": "code",
   "execution_count": 1,
   "metadata": {
    "executionInfo": {
     "elapsed": 1138,
     "status": "ok",
     "timestamp": 1604232216184,
     "user": {
      "displayName": "миша петров",
      "photoUrl": "",
      "userId": "11172926619972197975"
     },
     "user_tz": -300
    },
    "id": "GtEcJzmPsDy-"
   },
   "outputs": [
    {
     "name": "stdout",
     "output_type": "stream",
     "text": [
      "Requirement already satisfied: nest_asyncio in c:\\dev\\miniconda3\\lib\\site-packages (1.5.1)\n"
     ]
    }
   ],
   "source": [
    "import logging\n",
    "import io\n",
    "\n",
    "from PIL import Image\n",
    "file_object = io.BytesIO() # 'view.jpg' #\n",
    "import cv2\n",
    "import numpy as np\n",
    "\n",
    "!pip install nest_asyncio\n",
    "import nest_asyncio\n",
    "nest_asyncio.apply()\n",
    "from IPython.display import Audio\n",
    "\n",
    "\n",
    "\n",
    "from aiohttp import web\n",
    "routes = web.RouteTableDef()\n",
    "app = web.Application(client_max_size=4096000)\n",
    "logging.basicConfig(level=logging.DEBUG)"
   ]
  },
  {
   "cell_type": "code",
   "execution_count": 2,
   "metadata": {
    "colab": {
     "base_uri": "https://localhost:8080/",
     "height": 262
    },
    "executionInfo": {
     "elapsed": 740,
     "status": "error",
     "timestamp": 1604232302763,
     "user": {
      "displayName": "миша петров",
      "photoUrl": "",
      "userId": "11172926619972197975"
     },
     "user_tz": -300
    },
    "id": "YMVfASjcsDzM",
    "outputId": "355e0598-61ae-48d6-f343-b6e3cf565936"
   },
   "outputs": [],
   "source": [
    "net = cv2.dnn.readNet('yolov3.cfg', 'yolov3.weights')\n",
    "\n",
    "layer_names = net.getLayerNames()\n",
    "out_layers_indexes = net.getUnconnectedOutLayers()\n",
    "out_layers = [layer_names[index[0] - 1] for index in out_layers_indexes]\n",
    "\n",
    "with open('coco.names.txt') as f:\n",
    "    classes = f.read().split('\\n')"
   ]
  },
  {
   "cell_type": "code",
   "execution_count": 3,
   "metadata": {
    "executionInfo": {
     "elapsed": 1375,
     "status": "aborted",
     "timestamp": 1604232216500,
     "user": {
      "displayName": "миша петров",
      "photoUrl": "",
      "userId": "11172926619972197975"
     },
     "user_tz": -300
    },
    "id": "Ap5VJWLzsDzY"
   },
   "outputs": [],
   "source": [
    "def apply_yolo(img, draw_object_=True):\n",
    "    '''get: array-like img data \n",
    "    return: img with wrawed object boxes & boxes'''\n",
    "    height,width,depth = img.shape\n",
    "    blob = cv2.dnn.blobFromImage(img, 1/255, (608,608), (0,0,0), swapRB=True, crop=False)\n",
    "    net.setInput(blob)\n",
    "    \n",
    "    outs = net.forward(out_layers)\n",
    "    \n",
    "    boxes = []\n",
    "    class_indexes = []\n",
    "    class_scores = []\n",
    "\n",
    "    for out in outs:\n",
    "        for obj in out:\n",
    "            #print(obj)\n",
    "            scores = obj[5:]\n",
    "            class_index = np.argmax(scores)\n",
    "            class_score = scores[class_index]\n",
    "            if class_score > 0: \n",
    "                #print(class_index, class_score)\n",
    "                center_x = int(obj[0] * width)\n",
    "                center_y = int(obj[1] * height)\n",
    "                obj_width = int(obj[2] * width)\n",
    "                obj_height = int(obj[3] * height)\n",
    "\n",
    "                x = center_x - obj_width // 2\n",
    "                y = center_y - obj_height // 2\n",
    "\n",
    "                box = [x,y,obj_width,obj_height]\n",
    "                boxes.append(box)\n",
    "                class_indexes.append(class_index)\n",
    "                class_scores.append(float(class_score))\n",
    "                \n",
    "    object_box_list = cv2.dnn.NMSBoxes(boxes, class_scores, 0, 0.35)\n",
    "    #print(chosen_boxes)\n",
    "    \n",
    "    xywh_name_class_list = []    \n",
    "    for box_index in object_box_list:\n",
    "        box_index = box_index[0]\n",
    "        xywh_name_class_list.append([boxes[box_index] + [classes[class_indexes[box_index]]] + [class_indexes[box_index]]])\n",
    "        # TODO uncomment 2 debug\n",
    "        img = draw_object(img, class_indexes[box_index], class_scores[box_index], boxes[box_index])\n",
    "        \n",
    "    return img, xywh_name_class_list\n"
   ]
  },
  {
   "cell_type": "code",
   "execution_count": 4,
   "metadata": {
    "executionInfo": {
     "elapsed": 1378,
     "status": "aborted",
     "timestamp": 1604232216512,
     "user": {
      "displayName": "миша петров",
      "photoUrl": "",
      "userId": "11172926619972197975"
     },
     "user_tz": -300
    },
    "id": "NTYQiz4OsDzh"
   },
   "outputs": [],
   "source": [
    "def draw_object(img, index, score, box):\n",
    "    x,y,w,h = box\n",
    "    start = (x,y)\n",
    "    end = (x + w, y + h)\n",
    "    color = (0,255,0)\n",
    "    width = 1\n",
    "    \n",
    "    img = cv2.rectangle(img, start, end, color, width)\n",
    "    \n",
    "    start = (x-10, y-10)\n",
    "    font_size = 1\n",
    "    font = cv2.FONT_HERSHEY_SIMPLEX\n",
    "    width = 1\n",
    "    text = classes[index]\n",
    "    \n",
    "    img = cv2.putText(img, text, start, font, font_size, color, width, cv2.LINE_AA)\n",
    "#     font = ImageFont.truetype('segoeuil.ttf', size=18)\n",
    "#     img = ImageDraw.Draw(img)\n",
    "#     img.text(\n",
    "#         start,\n",
    "#         text,\n",
    "#         # Добавляем шрифт к изображению\n",
    "#         font=font,\n",
    "#         fill='#00FF00')\n",
    "    \n",
    "    return img"
   ]
  },
  {
   "cell_type": "code",
   "execution_count": 5,
   "metadata": {
    "executionInfo": {
     "elapsed": 1374,
     "status": "aborted",
     "timestamp": 1604232216515,
     "user": {
      "displayName": "миша петров",
      "photoUrl": "",
      "userId": "11172926619972197975"
     },
     "user_tz": -300
    },
    "id": "6VTuel8rsDzp"
   },
   "outputs": [],
   "source": [
    "@routes.get('/get_objects')\n",
    "def get_objects(request=None):  \n",
    "    print('getting objects from file')\n",
    "    img = Image.open(file_object).rotate(180)\n",
    "    img\n",
    "    arr = np.array(img)\n",
    "    arr, xywh_name_class_list = apply_yolo(arr)\n",
    "    img = Image.fromarray(arr)\n",
    "    cv2.imshow(img)\n",
    "    return web.Response(text=str(xywh_name_class_list))"
   ]
  },
  {
   "cell_type": "code",
   "execution_count": 6,
   "metadata": {},
   "outputs": [],
   "source": [
    "@routes.post('/get_objects')\n",
    "async def get_objects(request=None):  \n",
    "    print('getting objects from body')\n",
    "    file_object = await request.read()\n",
    "    img = Image.frombytes('RGB', (1280, 720), file_object).rotate(180)\n",
    "    arr = np.array(img)\n",
    "    arr, xywh_name_class_list = apply_yolo(arr)\n",
    "    img = Image.fromarray(arr)\n",
    "    app['img'] = img\n",
    "    \n",
    "        \n",
    "    return web.Response(text=str(xywh_name_class_list))"
   ]
  },
  {
   "cell_type": "code",
   "execution_count": 7,
   "metadata": {},
   "outputs": [
    {
     "name": "stderr",
     "output_type": "stream",
     "text": [
      "DEBUG:asyncio:Using selector: SelectSelector\n"
     ]
    },
    {
     "name": "stdout",
     "output_type": "stream",
     "text": [
      "======== Running on http://0.0.0.0:8080 ========\n",
      "(Press CTRL+C to quit)\n"
     ]
    }
   ],
   "source": [
    "if __name__ == '__main__':\n",
    "    app['img']=None\n",
    "    app.add_routes(routes)\n",
    "    web.run_app(app)"
   ]
  }
 ],
 "metadata": {
  "colab": {
   "collapsed_sections": [],
   "name": "parking.ipynb",
   "provenance": []
  },
  "kernelspec": {
   "display_name": "Python 3 (ipykernel)",
   "language": "python",
   "name": "python3"
  },
  "language_info": {
   "codemirror_mode": {
    "name": "ipython",
    "version": 3
   },
   "file_extension": ".py",
   "mimetype": "text/x-python",
   "name": "python",
   "nbconvert_exporter": "python",
   "pygments_lexer": "ipython3",
   "version": "3.7.10"
  }
 },
 "nbformat": 4,
 "nbformat_minor": 4
}
